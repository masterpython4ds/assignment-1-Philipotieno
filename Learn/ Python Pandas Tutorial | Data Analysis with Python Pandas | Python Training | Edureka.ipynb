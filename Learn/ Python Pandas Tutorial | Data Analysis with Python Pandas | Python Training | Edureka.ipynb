{
 "cells": [
  {
   "cell_type": "code",
   "execution_count": 25,
   "metadata": {},
   "outputs": [],
   "source": [
    "## DataFrame  And Series\n",
    "import pandas as pd\n",
    "import numpy as np"
   ]
  },
  {
   "cell_type": "code",
   "execution_count": 26,
   "metadata": {},
   "outputs": [
    {
     "data": {
      "text/plain": [
       "0     1.0\n",
       "1     2.0\n",
       "2     3.0\n",
       "3     4.0\n",
       "4     5.0\n",
       "5     NaN\n",
       "6     8.0\n",
       "7     9.0\n",
       "8    10.0\n",
       "dtype: float64"
      ]
     },
     "execution_count": 26,
     "metadata": {},
     "output_type": "execute_result"
    }
   ],
   "source": [
    "s = pd.Series([1, 2, 3, 4, 5, np.nan, 8, 9, 10]) #Creating a series\n",
    "s"
   ]
  },
  {
   "cell_type": "code",
   "execution_count": 27,
   "metadata": {},
   "outputs": [
    {
     "data": {
      "text/plain": [
       "DatetimeIndex(['2020-03-02', '2020-03-03', '2020-03-04', '2020-03-05',\n",
       "               '2020-03-06', '2020-03-07', '2020-03-08', '2020-03-09',\n",
       "               '2020-03-10', '2020-03-11'],\n",
       "              dtype='datetime64[ns]', freq='D')"
      ]
     },
     "execution_count": 27,
     "metadata": {},
     "output_type": "execute_result"
    }
   ],
   "source": [
    "# Creating a df by passing a np array\n",
    "d = pd.date_range('20200302', periods=10)\n",
    "d"
   ]
  },
  {
   "cell_type": "code",
   "execution_count": 28,
   "metadata": {},
   "outputs": [],
   "source": [
    "df = pd.DataFrame(np.random.randn(10, 4), index=d, columns=['A', 'B', 'C', 'D'])"
   ]
  },
  {
   "cell_type": "code",
   "execution_count": 29,
   "metadata": {},
   "outputs": [
    {
     "data": {
      "text/html": [
       "<div>\n",
       "<style scoped>\n",
       "    .dataframe tbody tr th:only-of-type {\n",
       "        vertical-align: middle;\n",
       "    }\n",
       "\n",
       "    .dataframe tbody tr th {\n",
       "        vertical-align: top;\n",
       "    }\n",
       "\n",
       "    .dataframe thead th {\n",
       "        text-align: right;\n",
       "    }\n",
       "</style>\n",
       "<table border=\"1\" class=\"dataframe\">\n",
       "  <thead>\n",
       "    <tr style=\"text-align: right;\">\n",
       "      <th></th>\n",
       "      <th>A</th>\n",
       "      <th>B</th>\n",
       "      <th>C</th>\n",
       "      <th>D</th>\n",
       "    </tr>\n",
       "  </thead>\n",
       "  <tbody>\n",
       "    <tr>\n",
       "      <th>2020-03-02</th>\n",
       "      <td>-0.752225</td>\n",
       "      <td>0.979038</td>\n",
       "      <td>-1.076045</td>\n",
       "      <td>-0.544871</td>\n",
       "    </tr>\n",
       "    <tr>\n",
       "      <th>2020-03-03</th>\n",
       "      <td>1.011767</td>\n",
       "      <td>1.261112</td>\n",
       "      <td>0.288427</td>\n",
       "      <td>0.205012</td>\n",
       "    </tr>\n",
       "    <tr>\n",
       "      <th>2020-03-04</th>\n",
       "      <td>1.203798</td>\n",
       "      <td>1.549236</td>\n",
       "      <td>-0.405559</td>\n",
       "      <td>-1.388115</td>\n",
       "    </tr>\n",
       "    <tr>\n",
       "      <th>2020-03-05</th>\n",
       "      <td>0.362092</td>\n",
       "      <td>-0.254427</td>\n",
       "      <td>0.458794</td>\n",
       "      <td>0.915725</td>\n",
       "    </tr>\n",
       "    <tr>\n",
       "      <th>2020-03-06</th>\n",
       "      <td>-0.598379</td>\n",
       "      <td>-0.988254</td>\n",
       "      <td>-1.333481</td>\n",
       "      <td>-1.344499</td>\n",
       "    </tr>\n",
       "    <tr>\n",
       "      <th>2020-03-07</th>\n",
       "      <td>-1.343687</td>\n",
       "      <td>0.557788</td>\n",
       "      <td>-0.064980</td>\n",
       "      <td>-1.255824</td>\n",
       "    </tr>\n",
       "    <tr>\n",
       "      <th>2020-03-08</th>\n",
       "      <td>1.505841</td>\n",
       "      <td>0.569588</td>\n",
       "      <td>-1.676633</td>\n",
       "      <td>0.334336</td>\n",
       "    </tr>\n",
       "    <tr>\n",
       "      <th>2020-03-09</th>\n",
       "      <td>-0.855846</td>\n",
       "      <td>-0.627012</td>\n",
       "      <td>0.451488</td>\n",
       "      <td>1.905217</td>\n",
       "    </tr>\n",
       "    <tr>\n",
       "      <th>2020-03-10</th>\n",
       "      <td>0.032749</td>\n",
       "      <td>-0.465731</td>\n",
       "      <td>1.187525</td>\n",
       "      <td>0.361387</td>\n",
       "    </tr>\n",
       "    <tr>\n",
       "      <th>2020-03-11</th>\n",
       "      <td>0.205440</td>\n",
       "      <td>0.612187</td>\n",
       "      <td>-0.796379</td>\n",
       "      <td>0.986999</td>\n",
       "    </tr>\n",
       "  </tbody>\n",
       "</table>\n",
       "</div>"
      ],
      "text/plain": [
       "                   A         B         C         D\n",
       "2020-03-02 -0.752225  0.979038 -1.076045 -0.544871\n",
       "2020-03-03  1.011767  1.261112  0.288427  0.205012\n",
       "2020-03-04  1.203798  1.549236 -0.405559 -1.388115\n",
       "2020-03-05  0.362092 -0.254427  0.458794  0.915725\n",
       "2020-03-06 -0.598379 -0.988254 -1.333481 -1.344499\n",
       "2020-03-07 -1.343687  0.557788 -0.064980 -1.255824\n",
       "2020-03-08  1.505841  0.569588 -1.676633  0.334336\n",
       "2020-03-09 -0.855846 -0.627012  0.451488  1.905217\n",
       "2020-03-10  0.032749 -0.465731  1.187525  0.361387\n",
       "2020-03-11  0.205440  0.612187 -0.796379  0.986999"
      ]
     },
     "execution_count": 29,
     "metadata": {},
     "output_type": "execute_result"
    }
   ],
   "source": [
    "df"
   ]
  },
  {
   "cell_type": "code",
   "execution_count": 30,
   "metadata": {},
   "outputs": [],
   "source": [
    "# Crating a dataframe by passing a dictionary of objects\n",
    "df1 = pd.DataFrame({ 'A' : [1, 2, 3, 4],\n",
    "                    'B' : pd.Timestamp('20200301'),\n",
    "                    'C' : pd.Series(1, index=list(range(4)), dtype='float'),\n",
    "                    'D' : np.array([5]*4, dtype='int32'),\n",
    "                    'E' : pd.Categorical(['true', 'False', 'True', 'False']),\n",
    "                    'F' : 'Edureka'\n",
    "                  })"
   ]
  },
  {
   "cell_type": "code",
   "execution_count": 35,
   "metadata": {},
   "outputs": [
    {
     "data": {
      "text/html": [
       "<div>\n",
       "<style scoped>\n",
       "    .dataframe tbody tr th:only-of-type {\n",
       "        vertical-align: middle;\n",
       "    }\n",
       "\n",
       "    .dataframe tbody tr th {\n",
       "        vertical-align: top;\n",
       "    }\n",
       "\n",
       "    .dataframe thead th {\n",
       "        text-align: right;\n",
       "    }\n",
       "</style>\n",
       "<table border=\"1\" class=\"dataframe\">\n",
       "  <thead>\n",
       "    <tr style=\"text-align: right;\">\n",
       "      <th></th>\n",
       "      <th>A</th>\n",
       "      <th>B</th>\n",
       "      <th>C</th>\n",
       "      <th>D</th>\n",
       "      <th>E</th>\n",
       "      <th>F</th>\n",
       "    </tr>\n",
       "  </thead>\n",
       "  <tbody>\n",
       "    <tr>\n",
       "      <th>0</th>\n",
       "      <td>1</td>\n",
       "      <td>2020-03-01</td>\n",
       "      <td>1.0</td>\n",
       "      <td>5</td>\n",
       "      <td>true</td>\n",
       "      <td>Edureka</td>\n",
       "    </tr>\n",
       "    <tr>\n",
       "      <th>1</th>\n",
       "      <td>2</td>\n",
       "      <td>2020-03-01</td>\n",
       "      <td>1.0</td>\n",
       "      <td>5</td>\n",
       "      <td>False</td>\n",
       "      <td>Edureka</td>\n",
       "    </tr>\n",
       "    <tr>\n",
       "      <th>2</th>\n",
       "      <td>3</td>\n",
       "      <td>2020-03-01</td>\n",
       "      <td>1.0</td>\n",
       "      <td>5</td>\n",
       "      <td>True</td>\n",
       "      <td>Edureka</td>\n",
       "    </tr>\n",
       "    <tr>\n",
       "      <th>3</th>\n",
       "      <td>4</td>\n",
       "      <td>2020-03-01</td>\n",
       "      <td>1.0</td>\n",
       "      <td>5</td>\n",
       "      <td>False</td>\n",
       "      <td>Edureka</td>\n",
       "    </tr>\n",
       "  </tbody>\n",
       "</table>\n",
       "</div>"
      ],
      "text/plain": [
       "   A          B    C  D      E        F\n",
       "0  1 2020-03-01  1.0  5   true  Edureka\n",
       "1  2 2020-03-01  1.0  5  False  Edureka\n",
       "2  3 2020-03-01  1.0  5   True  Edureka\n",
       "3  4 2020-03-01  1.0  5  False  Edureka"
      ]
     },
     "execution_count": 35,
     "metadata": {},
     "output_type": "execute_result"
    }
   ],
   "source": [
    "df1"
   ]
  },
  {
   "cell_type": "code",
   "execution_count": 36,
   "metadata": {},
   "outputs": [
    {
     "data": {
      "text/plain": [
       "A             int64\n",
       "B    datetime64[ns]\n",
       "C           float64\n",
       "D             int32\n",
       "E          category\n",
       "F            object\n",
       "dtype: object"
      ]
     },
     "execution_count": 36,
     "metadata": {},
     "output_type": "execute_result"
    }
   ],
   "source": [
    "df1.dtypes"
   ]
  },
  {
   "cell_type": "code",
   "execution_count": 33,
   "metadata": {},
   "outputs": [],
   "source": [
    "## How to view Data"
   ]
  },
  {
   "cell_type": "code",
   "execution_count": 34,
   "metadata": {},
   "outputs": [
    {
     "data": {
      "text/plain": [
       "A    float64\n",
       "B    float64\n",
       "C    float64\n",
       "D    float64\n",
       "dtype: object"
      ]
     },
     "execution_count": 34,
     "metadata": {},
     "output_type": "execute_result"
    }
   ],
   "source": [
    "df.dtypes"
   ]
  },
  {
   "cell_type": "code",
   "execution_count": 37,
   "metadata": {},
   "outputs": [
    {
     "data": {
      "text/html": [
       "<div>\n",
       "<style scoped>\n",
       "    .dataframe tbody tr th:only-of-type {\n",
       "        vertical-align: middle;\n",
       "    }\n",
       "\n",
       "    .dataframe tbody tr th {\n",
       "        vertical-align: top;\n",
       "    }\n",
       "\n",
       "    .dataframe thead th {\n",
       "        text-align: right;\n",
       "    }\n",
       "</style>\n",
       "<table border=\"1\" class=\"dataframe\">\n",
       "  <thead>\n",
       "    <tr style=\"text-align: right;\">\n",
       "      <th></th>\n",
       "      <th>A</th>\n",
       "      <th>B</th>\n",
       "      <th>C</th>\n",
       "      <th>D</th>\n",
       "    </tr>\n",
       "  </thead>\n",
       "  <tbody>\n",
       "    <tr>\n",
       "      <th>2020-03-02</th>\n",
       "      <td>-0.752225</td>\n",
       "      <td>0.979038</td>\n",
       "      <td>-1.076045</td>\n",
       "      <td>-0.544871</td>\n",
       "    </tr>\n",
       "    <tr>\n",
       "      <th>2020-03-03</th>\n",
       "      <td>1.011767</td>\n",
       "      <td>1.261112</td>\n",
       "      <td>0.288427</td>\n",
       "      <td>0.205012</td>\n",
       "    </tr>\n",
       "    <tr>\n",
       "      <th>2020-03-04</th>\n",
       "      <td>1.203798</td>\n",
       "      <td>1.549236</td>\n",
       "      <td>-0.405559</td>\n",
       "      <td>-1.388115</td>\n",
       "    </tr>\n",
       "    <tr>\n",
       "      <th>2020-03-05</th>\n",
       "      <td>0.362092</td>\n",
       "      <td>-0.254427</td>\n",
       "      <td>0.458794</td>\n",
       "      <td>0.915725</td>\n",
       "    </tr>\n",
       "    <tr>\n",
       "      <th>2020-03-06</th>\n",
       "      <td>-0.598379</td>\n",
       "      <td>-0.988254</td>\n",
       "      <td>-1.333481</td>\n",
       "      <td>-1.344499</td>\n",
       "    </tr>\n",
       "  </tbody>\n",
       "</table>\n",
       "</div>"
      ],
      "text/plain": [
       "                   A         B         C         D\n",
       "2020-03-02 -0.752225  0.979038 -1.076045 -0.544871\n",
       "2020-03-03  1.011767  1.261112  0.288427  0.205012\n",
       "2020-03-04  1.203798  1.549236 -0.405559 -1.388115\n",
       "2020-03-05  0.362092 -0.254427  0.458794  0.915725\n",
       "2020-03-06 -0.598379 -0.988254 -1.333481 -1.344499"
      ]
     },
     "execution_count": 37,
     "metadata": {},
     "output_type": "execute_result"
    }
   ],
   "source": [
    "df.head() ## First 5 values"
   ]
  },
  {
   "cell_type": "code",
   "execution_count": 38,
   "metadata": {},
   "outputs": [
    {
     "data": {
      "text/html": [
       "<div>\n",
       "<style scoped>\n",
       "    .dataframe tbody tr th:only-of-type {\n",
       "        vertical-align: middle;\n",
       "    }\n",
       "\n",
       "    .dataframe tbody tr th {\n",
       "        vertical-align: top;\n",
       "    }\n",
       "\n",
       "    .dataframe thead th {\n",
       "        text-align: right;\n",
       "    }\n",
       "</style>\n",
       "<table border=\"1\" class=\"dataframe\">\n",
       "  <thead>\n",
       "    <tr style=\"text-align: right;\">\n",
       "      <th></th>\n",
       "      <th>A</th>\n",
       "      <th>B</th>\n",
       "      <th>C</th>\n",
       "      <th>D</th>\n",
       "    </tr>\n",
       "  </thead>\n",
       "  <tbody>\n",
       "    <tr>\n",
       "      <th>2020-03-07</th>\n",
       "      <td>-1.343687</td>\n",
       "      <td>0.557788</td>\n",
       "      <td>-0.064980</td>\n",
       "      <td>-1.255824</td>\n",
       "    </tr>\n",
       "    <tr>\n",
       "      <th>2020-03-08</th>\n",
       "      <td>1.505841</td>\n",
       "      <td>0.569588</td>\n",
       "      <td>-1.676633</td>\n",
       "      <td>0.334336</td>\n",
       "    </tr>\n",
       "    <tr>\n",
       "      <th>2020-03-09</th>\n",
       "      <td>-0.855846</td>\n",
       "      <td>-0.627012</td>\n",
       "      <td>0.451488</td>\n",
       "      <td>1.905217</td>\n",
       "    </tr>\n",
       "    <tr>\n",
       "      <th>2020-03-10</th>\n",
       "      <td>0.032749</td>\n",
       "      <td>-0.465731</td>\n",
       "      <td>1.187525</td>\n",
       "      <td>0.361387</td>\n",
       "    </tr>\n",
       "    <tr>\n",
       "      <th>2020-03-11</th>\n",
       "      <td>0.205440</td>\n",
       "      <td>0.612187</td>\n",
       "      <td>-0.796379</td>\n",
       "      <td>0.986999</td>\n",
       "    </tr>\n",
       "  </tbody>\n",
       "</table>\n",
       "</div>"
      ],
      "text/plain": [
       "                   A         B         C         D\n",
       "2020-03-07 -1.343687  0.557788 -0.064980 -1.255824\n",
       "2020-03-08  1.505841  0.569588 -1.676633  0.334336\n",
       "2020-03-09 -0.855846 -0.627012  0.451488  1.905217\n",
       "2020-03-10  0.032749 -0.465731  1.187525  0.361387\n",
       "2020-03-11  0.205440  0.612187 -0.796379  0.986999"
      ]
     },
     "execution_count": 38,
     "metadata": {},
     "output_type": "execute_result"
    }
   ],
   "source": [
    "df.tail() # last 5 values"
   ]
  },
  {
   "cell_type": "code",
   "execution_count": 40,
   "metadata": {},
   "outputs": [
    {
     "data": {
      "text/plain": [
       "DatetimeIndex(['2020-03-02', '2020-03-03', '2020-03-04', '2020-03-05',\n",
       "               '2020-03-06', '2020-03-07', '2020-03-08', '2020-03-09',\n",
       "               '2020-03-10', '2020-03-11'],\n",
       "              dtype='datetime64[ns]', freq='D')"
      ]
     },
     "execution_count": 40,
     "metadata": {},
     "output_type": "execute_result"
    }
   ],
   "source": [
    "df.index"
   ]
  },
  {
   "cell_type": "code",
   "execution_count": 42,
   "metadata": {},
   "outputs": [
    {
     "data": {
      "text/plain": [
       "Index(['A', 'B', 'C', 'D'], dtype='object')"
      ]
     },
     "execution_count": 42,
     "metadata": {},
     "output_type": "execute_result"
    }
   ],
   "source": [
    "df.columns"
   ]
  },
  {
   "cell_type": "code",
   "execution_count": 45,
   "metadata": {},
   "outputs": [
    {
     "data": {
      "text/plain": [
       "array([[-0.75222495,  0.97903807, -1.07604527, -0.54487107],\n",
       "       [ 1.01176726,  1.26111235,  0.28842728,  0.20501217],\n",
       "       [ 1.20379783,  1.54923597, -0.4055593 , -1.38811503],\n",
       "       [ 0.36209226, -0.25442682,  0.45879443,  0.91572534],\n",
       "       [-0.59837872, -0.98825447, -1.33348112, -1.34449886],\n",
       "       [-1.34368663,  0.55778834, -0.06498043, -1.2558237 ],\n",
       "       [ 1.50584112,  0.56958792, -1.67663311,  0.33433607],\n",
       "       [-0.85584614, -0.62701225,  0.45148815,  1.90521686],\n",
       "       [ 0.03274924, -0.46573072,  1.18752474,  0.36138703],\n",
       "       [ 0.20543954,  0.61218742, -0.79637904,  0.9869986 ]])"
      ]
     },
     "execution_count": 45,
     "metadata": {},
     "output_type": "execute_result"
    }
   ],
   "source": [
    "df.to_numpy()"
   ]
  },
  {
   "cell_type": "code",
   "execution_count": 46,
   "metadata": {},
   "outputs": [
    {
     "data": {
      "text/html": [
       "<div>\n",
       "<style scoped>\n",
       "    .dataframe tbody tr th:only-of-type {\n",
       "        vertical-align: middle;\n",
       "    }\n",
       "\n",
       "    .dataframe tbody tr th {\n",
       "        vertical-align: top;\n",
       "    }\n",
       "\n",
       "    .dataframe thead th {\n",
       "        text-align: right;\n",
       "    }\n",
       "</style>\n",
       "<table border=\"1\" class=\"dataframe\">\n",
       "  <thead>\n",
       "    <tr style=\"text-align: right;\">\n",
       "      <th></th>\n",
       "      <th>A</th>\n",
       "      <th>B</th>\n",
       "      <th>C</th>\n",
       "      <th>D</th>\n",
       "    </tr>\n",
       "  </thead>\n",
       "  <tbody>\n",
       "    <tr>\n",
       "      <th>count</th>\n",
       "      <td>10.000000</td>\n",
       "      <td>10.000000</td>\n",
       "      <td>10.000000</td>\n",
       "      <td>10.000000</td>\n",
       "    </tr>\n",
       "    <tr>\n",
       "      <th>mean</th>\n",
       "      <td>0.077155</td>\n",
       "      <td>0.319353</td>\n",
       "      <td>-0.296684</td>\n",
       "      <td>0.017537</td>\n",
       "    </tr>\n",
       "    <tr>\n",
       "      <th>std</th>\n",
       "      <td>0.961312</td>\n",
       "      <td>0.855762</td>\n",
       "      <td>0.917581</td>\n",
       "      <td>1.122122</td>\n",
       "    </tr>\n",
       "    <tr>\n",
       "      <th>min</th>\n",
       "      <td>-1.343687</td>\n",
       "      <td>-0.988254</td>\n",
       "      <td>-1.676633</td>\n",
       "      <td>-1.388115</td>\n",
       "    </tr>\n",
       "    <tr>\n",
       "      <th>25%</th>\n",
       "      <td>-0.713763</td>\n",
       "      <td>-0.412905</td>\n",
       "      <td>-1.006129</td>\n",
       "      <td>-1.078086</td>\n",
       "    </tr>\n",
       "    <tr>\n",
       "      <th>50%</th>\n",
       "      <td>0.119094</td>\n",
       "      <td>0.563688</td>\n",
       "      <td>-0.235270</td>\n",
       "      <td>0.269674</td>\n",
       "    </tr>\n",
       "    <tr>\n",
       "      <th>75%</th>\n",
       "      <td>0.849349</td>\n",
       "      <td>0.887325</td>\n",
       "      <td>0.410723</td>\n",
       "      <td>0.777141</td>\n",
       "    </tr>\n",
       "    <tr>\n",
       "      <th>max</th>\n",
       "      <td>1.505841</td>\n",
       "      <td>1.549236</td>\n",
       "      <td>1.187525</td>\n",
       "      <td>1.905217</td>\n",
       "    </tr>\n",
       "  </tbody>\n",
       "</table>\n",
       "</div>"
      ],
      "text/plain": [
       "               A          B          C          D\n",
       "count  10.000000  10.000000  10.000000  10.000000\n",
       "mean    0.077155   0.319353  -0.296684   0.017537\n",
       "std     0.961312   0.855762   0.917581   1.122122\n",
       "min    -1.343687  -0.988254  -1.676633  -1.388115\n",
       "25%    -0.713763  -0.412905  -1.006129  -1.078086\n",
       "50%     0.119094   0.563688  -0.235270   0.269674\n",
       "75%     0.849349   0.887325   0.410723   0.777141\n",
       "max     1.505841   1.549236   1.187525   1.905217"
      ]
     },
     "execution_count": 46,
     "metadata": {},
     "output_type": "execute_result"
    }
   ],
   "source": [
    "df.describe()"
   ]
  },
  {
   "cell_type": "code",
   "execution_count": 49,
   "metadata": {},
   "outputs": [
    {
     "data": {
      "text/html": [
       "<div>\n",
       "<style scoped>\n",
       "    .dataframe tbody tr th:only-of-type {\n",
       "        vertical-align: middle;\n",
       "    }\n",
       "\n",
       "    .dataframe tbody tr th {\n",
       "        vertical-align: top;\n",
       "    }\n",
       "\n",
       "    .dataframe thead th {\n",
       "        text-align: right;\n",
       "    }\n",
       "</style>\n",
       "<table border=\"1\" class=\"dataframe\">\n",
       "  <thead>\n",
       "    <tr style=\"text-align: right;\">\n",
       "      <th></th>\n",
       "      <th>D</th>\n",
       "      <th>C</th>\n",
       "      <th>B</th>\n",
       "      <th>A</th>\n",
       "    </tr>\n",
       "  </thead>\n",
       "  <tbody>\n",
       "    <tr>\n",
       "      <th>2020-03-02</th>\n",
       "      <td>-0.544871</td>\n",
       "      <td>-1.076045</td>\n",
       "      <td>0.979038</td>\n",
       "      <td>-0.752225</td>\n",
       "    </tr>\n",
       "    <tr>\n",
       "      <th>2020-03-03</th>\n",
       "      <td>0.205012</td>\n",
       "      <td>0.288427</td>\n",
       "      <td>1.261112</td>\n",
       "      <td>1.011767</td>\n",
       "    </tr>\n",
       "    <tr>\n",
       "      <th>2020-03-04</th>\n",
       "      <td>-1.388115</td>\n",
       "      <td>-0.405559</td>\n",
       "      <td>1.549236</td>\n",
       "      <td>1.203798</td>\n",
       "    </tr>\n",
       "    <tr>\n",
       "      <th>2020-03-05</th>\n",
       "      <td>0.915725</td>\n",
       "      <td>0.458794</td>\n",
       "      <td>-0.254427</td>\n",
       "      <td>0.362092</td>\n",
       "    </tr>\n",
       "    <tr>\n",
       "      <th>2020-03-06</th>\n",
       "      <td>-1.344499</td>\n",
       "      <td>-1.333481</td>\n",
       "      <td>-0.988254</td>\n",
       "      <td>-0.598379</td>\n",
       "    </tr>\n",
       "    <tr>\n",
       "      <th>2020-03-07</th>\n",
       "      <td>-1.255824</td>\n",
       "      <td>-0.064980</td>\n",
       "      <td>0.557788</td>\n",
       "      <td>-1.343687</td>\n",
       "    </tr>\n",
       "    <tr>\n",
       "      <th>2020-03-08</th>\n",
       "      <td>0.334336</td>\n",
       "      <td>-1.676633</td>\n",
       "      <td>0.569588</td>\n",
       "      <td>1.505841</td>\n",
       "    </tr>\n",
       "    <tr>\n",
       "      <th>2020-03-09</th>\n",
       "      <td>1.905217</td>\n",
       "      <td>0.451488</td>\n",
       "      <td>-0.627012</td>\n",
       "      <td>-0.855846</td>\n",
       "    </tr>\n",
       "    <tr>\n",
       "      <th>2020-03-10</th>\n",
       "      <td>0.361387</td>\n",
       "      <td>1.187525</td>\n",
       "      <td>-0.465731</td>\n",
       "      <td>0.032749</td>\n",
       "    </tr>\n",
       "    <tr>\n",
       "      <th>2020-03-11</th>\n",
       "      <td>0.986999</td>\n",
       "      <td>-0.796379</td>\n",
       "      <td>0.612187</td>\n",
       "      <td>0.205440</td>\n",
       "    </tr>\n",
       "  </tbody>\n",
       "</table>\n",
       "</div>"
      ],
      "text/plain": [
       "                   D         C         B         A\n",
       "2020-03-02 -0.544871 -1.076045  0.979038 -0.752225\n",
       "2020-03-03  0.205012  0.288427  1.261112  1.011767\n",
       "2020-03-04 -1.388115 -0.405559  1.549236  1.203798\n",
       "2020-03-05  0.915725  0.458794 -0.254427  0.362092\n",
       "2020-03-06 -1.344499 -1.333481 -0.988254 -0.598379\n",
       "2020-03-07 -1.255824 -0.064980  0.557788 -1.343687\n",
       "2020-03-08  0.334336 -1.676633  0.569588  1.505841\n",
       "2020-03-09  1.905217  0.451488 -0.627012 -0.855846\n",
       "2020-03-10  0.361387  1.187525 -0.465731  0.032749\n",
       "2020-03-11  0.986999 -0.796379  0.612187  0.205440"
      ]
     },
     "execution_count": 49,
     "metadata": {},
     "output_type": "execute_result"
    }
   ],
   "source": [
    "df.sort_index(axis=1, ascending=False)"
   ]
  },
  {
   "cell_type": "code",
   "execution_count": 53,
   "metadata": {},
   "outputs": [
    {
     "data": {
      "text/html": [
       "<div>\n",
       "<style scoped>\n",
       "    .dataframe tbody tr th:only-of-type {\n",
       "        vertical-align: middle;\n",
       "    }\n",
       "\n",
       "    .dataframe tbody tr th {\n",
       "        vertical-align: top;\n",
       "    }\n",
       "\n",
       "    .dataframe thead th {\n",
       "        text-align: right;\n",
       "    }\n",
       "</style>\n",
       "<table border=\"1\" class=\"dataframe\">\n",
       "  <thead>\n",
       "    <tr style=\"text-align: right;\">\n",
       "      <th></th>\n",
       "      <th>A</th>\n",
       "      <th>B</th>\n",
       "      <th>C</th>\n",
       "      <th>D</th>\n",
       "    </tr>\n",
       "  </thead>\n",
       "  <tbody>\n",
       "    <tr>\n",
       "      <th>2020-03-08</th>\n",
       "      <td>1.505841</td>\n",
       "      <td>0.569588</td>\n",
       "      <td>-1.676633</td>\n",
       "      <td>0.334336</td>\n",
       "    </tr>\n",
       "    <tr>\n",
       "      <th>2020-03-06</th>\n",
       "      <td>-0.598379</td>\n",
       "      <td>-0.988254</td>\n",
       "      <td>-1.333481</td>\n",
       "      <td>-1.344499</td>\n",
       "    </tr>\n",
       "    <tr>\n",
       "      <th>2020-03-02</th>\n",
       "      <td>-0.752225</td>\n",
       "      <td>0.979038</td>\n",
       "      <td>-1.076045</td>\n",
       "      <td>-0.544871</td>\n",
       "    </tr>\n",
       "    <tr>\n",
       "      <th>2020-03-11</th>\n",
       "      <td>0.205440</td>\n",
       "      <td>0.612187</td>\n",
       "      <td>-0.796379</td>\n",
       "      <td>0.986999</td>\n",
       "    </tr>\n",
       "    <tr>\n",
       "      <th>2020-03-04</th>\n",
       "      <td>1.203798</td>\n",
       "      <td>1.549236</td>\n",
       "      <td>-0.405559</td>\n",
       "      <td>-1.388115</td>\n",
       "    </tr>\n",
       "    <tr>\n",
       "      <th>2020-03-07</th>\n",
       "      <td>-1.343687</td>\n",
       "      <td>0.557788</td>\n",
       "      <td>-0.064980</td>\n",
       "      <td>-1.255824</td>\n",
       "    </tr>\n",
       "    <tr>\n",
       "      <th>2020-03-03</th>\n",
       "      <td>1.011767</td>\n",
       "      <td>1.261112</td>\n",
       "      <td>0.288427</td>\n",
       "      <td>0.205012</td>\n",
       "    </tr>\n",
       "    <tr>\n",
       "      <th>2020-03-09</th>\n",
       "      <td>-0.855846</td>\n",
       "      <td>-0.627012</td>\n",
       "      <td>0.451488</td>\n",
       "      <td>1.905217</td>\n",
       "    </tr>\n",
       "    <tr>\n",
       "      <th>2020-03-05</th>\n",
       "      <td>0.362092</td>\n",
       "      <td>-0.254427</td>\n",
       "      <td>0.458794</td>\n",
       "      <td>0.915725</td>\n",
       "    </tr>\n",
       "    <tr>\n",
       "      <th>2020-03-10</th>\n",
       "      <td>0.032749</td>\n",
       "      <td>-0.465731</td>\n",
       "      <td>1.187525</td>\n",
       "      <td>0.361387</td>\n",
       "    </tr>\n",
       "  </tbody>\n",
       "</table>\n",
       "</div>"
      ],
      "text/plain": [
       "                   A         B         C         D\n",
       "2020-03-08  1.505841  0.569588 -1.676633  0.334336\n",
       "2020-03-06 -0.598379 -0.988254 -1.333481 -1.344499\n",
       "2020-03-02 -0.752225  0.979038 -1.076045 -0.544871\n",
       "2020-03-11  0.205440  0.612187 -0.796379  0.986999\n",
       "2020-03-04  1.203798  1.549236 -0.405559 -1.388115\n",
       "2020-03-07 -1.343687  0.557788 -0.064980 -1.255824\n",
       "2020-03-03  1.011767  1.261112  0.288427  0.205012\n",
       "2020-03-09 -0.855846 -0.627012  0.451488  1.905217\n",
       "2020-03-05  0.362092 -0.254427  0.458794  0.915725\n",
       "2020-03-10  0.032749 -0.465731  1.187525  0.361387"
      ]
     },
     "execution_count": 53,
     "metadata": {},
     "output_type": "execute_result"
    }
   ],
   "source": [
    "df.sort_values(by='C')"
   ]
  },
  {
   "cell_type": "code",
   "execution_count": 54,
   "metadata": {},
   "outputs": [
    {
     "data": {
      "text/plain": [
       "2020-03-02   -0.752225\n",
       "2020-03-03    1.011767\n",
       "2020-03-04    1.203798\n",
       "2020-03-05    0.362092\n",
       "2020-03-06   -0.598379\n",
       "2020-03-07   -1.343687\n",
       "2020-03-08    1.505841\n",
       "2020-03-09   -0.855846\n",
       "2020-03-10    0.032749\n",
       "2020-03-11    0.205440\n",
       "Freq: D, Name: A, dtype: float64"
      ]
     },
     "execution_count": 54,
     "metadata": {},
     "output_type": "execute_result"
    }
   ],
   "source": [
    "df['A']"
   ]
  },
  {
   "cell_type": "code",
   "execution_count": 55,
   "metadata": {},
   "outputs": [
    {
     "data": {
      "text/html": [
       "<div>\n",
       "<style scoped>\n",
       "    .dataframe tbody tr th:only-of-type {\n",
       "        vertical-align: middle;\n",
       "    }\n",
       "\n",
       "    .dataframe tbody tr th {\n",
       "        vertical-align: top;\n",
       "    }\n",
       "\n",
       "    .dataframe thead th {\n",
       "        text-align: right;\n",
       "    }\n",
       "</style>\n",
       "<table border=\"1\" class=\"dataframe\">\n",
       "  <thead>\n",
       "    <tr style=\"text-align: right;\">\n",
       "      <th></th>\n",
       "      <th>A</th>\n",
       "      <th>B</th>\n",
       "      <th>C</th>\n",
       "      <th>D</th>\n",
       "    </tr>\n",
       "  </thead>\n",
       "  <tbody>\n",
       "    <tr>\n",
       "      <th>2020-03-02</th>\n",
       "      <td>-0.752225</td>\n",
       "      <td>0.979038</td>\n",
       "      <td>-1.076045</td>\n",
       "      <td>-0.544871</td>\n",
       "    </tr>\n",
       "    <tr>\n",
       "      <th>2020-03-03</th>\n",
       "      <td>1.011767</td>\n",
       "      <td>1.261112</td>\n",
       "      <td>0.288427</td>\n",
       "      <td>0.205012</td>\n",
       "    </tr>\n",
       "    <tr>\n",
       "      <th>2020-03-04</th>\n",
       "      <td>1.203798</td>\n",
       "      <td>1.549236</td>\n",
       "      <td>-0.405559</td>\n",
       "      <td>-1.388115</td>\n",
       "    </tr>\n",
       "  </tbody>\n",
       "</table>\n",
       "</div>"
      ],
      "text/plain": [
       "                   A         B         C         D\n",
       "2020-03-02 -0.752225  0.979038 -1.076045 -0.544871\n",
       "2020-03-03  1.011767  1.261112  0.288427  0.205012\n",
       "2020-03-04  1.203798  1.549236 -0.405559 -1.388115"
      ]
     },
     "execution_count": 55,
     "metadata": {},
     "output_type": "execute_result"
    }
   ],
   "source": [
    "df[0:3]"
   ]
  },
  {
   "cell_type": "code",
   "execution_count": 56,
   "metadata": {},
   "outputs": [
    {
     "data": {
      "text/plain": [
       "A   -0.752225\n",
       "B    0.979038\n",
       "C   -1.076045\n",
       "D   -0.544871\n",
       "Name: 2020-03-02 00:00:00, dtype: float64"
      ]
     },
     "execution_count": 56,
     "metadata": {},
     "output_type": "execute_result"
    }
   ],
   "source": [
    "df.loc[d[0]]"
   ]
  },
  {
   "cell_type": "code",
   "execution_count": null,
   "metadata": {},
   "outputs": [],
   "source": []
  }
 ],
 "metadata": {
  "kernelspec": {
   "display_name": "Python 3.6.9 64-bit ('venv': virtualenv)",
   "language": "python",
   "name": "python36964bitvenvvirtualenv911fc32ae0ad49d5a2a69474927c3459"
  },
  "language_info": {
   "codemirror_mode": {
    "name": "ipython",
    "version": 3
   },
   "file_extension": ".py",
   "mimetype": "text/x-python",
   "name": "python",
   "nbconvert_exporter": "python",
   "pygments_lexer": "ipython3",
   "version": "3.6.9"
  }
 },
 "nbformat": 4,
 "nbformat_minor": 2
}
