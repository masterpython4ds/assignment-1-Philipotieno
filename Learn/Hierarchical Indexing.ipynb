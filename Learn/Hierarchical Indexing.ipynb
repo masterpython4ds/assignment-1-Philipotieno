{
 "cells": [
  {
   "cell_type": "code",
   "execution_count": 13,
   "metadata": {},
   "outputs": [],
   "source": [
    "import pandas as pd\n",
    "import numpy as np"
   ]
  },
  {
   "cell_type": "code",
   "execution_count": 14,
   "metadata": {},
   "outputs": [],
   "source": [
    "## A multyindexed series"
   ]
  },
  {
   "cell_type": "code",
   "execution_count": 7,
   "metadata": {},
   "outputs": [
    {
     "data": {
      "text/plain": [
       "(Nairobi, 2000)      3456789\n",
       "(Nairobi, 2010)       355678\n",
       "(Kisumu, 2000)      18663456\n",
       "(NKisumu, 2010)    193456789\n",
       "(Mombasa, 2000)     23456789\n",
       "(Mombasa, 2010)     25456789\n",
       "dtype: int64"
      ]
     },
     "execution_count": 7,
     "metadata": {},
     "output_type": "execute_result"
    }
   ],
   "source": [
    "index = [('Nairobi', 2000), ('Nairobi', 2010),\n",
    "         ('Kisumu', 2000), ('NKisumu', 2010),\n",
    "         ('Mombasa', 2000), ('Mombasa', 2010)]\n",
    "\n",
    "populations = [3456789, 355678,\n",
    "              18663456, 193456789,\n",
    "             23456789, 25456789]\n",
    "\n",
    "pop = pd.Series(populations, index=index)\n",
    "pop"
   ]
  },
  {
   "cell_type": "code",
   "execution_count": 9,
   "metadata": {},
   "outputs": [
    {
     "data": {
      "text/plain": [
       "MultiIndex([('Nairobi', 2000),\n",
       "            ('Nairobi', 2010),\n",
       "            ( 'Kisumu', 2000),\n",
       "            ('NKisumu', 2010),\n",
       "            ('Mombasa', 2000),\n",
       "            ('Mombasa', 2010)],\n",
       "           )"
      ]
     },
     "execution_count": 9,
     "metadata": {},
     "output_type": "execute_result"
    }
   ],
   "source": [
    "index = pd.MultiIndex.from_tuples(index)\n",
    "index"
   ]
  },
  {
   "cell_type": "code",
   "execution_count": 10,
   "metadata": {},
   "outputs": [
    {
     "data": {
      "text/plain": [
       "Nairobi  2000      3456789\n",
       "         2010       355678\n",
       "Kisumu   2000     18663456\n",
       "NKisumu  2010    193456789\n",
       "Mombasa  2000     23456789\n",
       "         2010     25456789\n",
       "dtype: int64"
      ]
     },
     "execution_count": 10,
     "metadata": {},
     "output_type": "execute_result"
    }
   ],
   "source": [
    "pop = pop.reindex(index)\n",
    "pop"
   ]
  },
  {
   "cell_type": "code",
   "execution_count": 11,
   "metadata": {},
   "outputs": [
    {
     "data": {
      "text/plain": [
       "Nairobi       355678\n",
       "NKisumu    193456789\n",
       "Mombasa     25456789\n",
       "dtype: int64"
      ]
     },
     "execution_count": 11,
     "metadata": {},
     "output_type": "execute_result"
    }
   ],
   "source": [
    "pop[:, 2010]"
   ]
  },
  {
   "cell_type": "code",
   "execution_count": 15,
   "metadata": {},
   "outputs": [],
   "source": [
    "## MultiIndex as extra dimension"
   ]
  },
  {
   "cell_type": "code",
   "execution_count": 17,
   "metadata": {},
   "outputs": [
    {
     "data": {
      "text/html": [
       "<div>\n",
       "<style scoped>\n",
       "    .dataframe tbody tr th:only-of-type {\n",
       "        vertical-align: middle;\n",
       "    }\n",
       "\n",
       "    .dataframe tbody tr th {\n",
       "        vertical-align: top;\n",
       "    }\n",
       "\n",
       "    .dataframe thead th {\n",
       "        text-align: right;\n",
       "    }\n",
       "</style>\n",
       "<table border=\"1\" class=\"dataframe\">\n",
       "  <thead>\n",
       "    <tr style=\"text-align: right;\">\n",
       "      <th></th>\n",
       "      <th>2000</th>\n",
       "      <th>2010</th>\n",
       "    </tr>\n",
       "  </thead>\n",
       "  <tbody>\n",
       "    <tr>\n",
       "      <th>Kisumu</th>\n",
       "      <td>18663456.0</td>\n",
       "      <td>NaN</td>\n",
       "    </tr>\n",
       "    <tr>\n",
       "      <th>Mombasa</th>\n",
       "      <td>23456789.0</td>\n",
       "      <td>25456789.0</td>\n",
       "    </tr>\n",
       "    <tr>\n",
       "      <th>NKisumu</th>\n",
       "      <td>NaN</td>\n",
       "      <td>193456789.0</td>\n",
       "    </tr>\n",
       "    <tr>\n",
       "      <th>Nairobi</th>\n",
       "      <td>3456789.0</td>\n",
       "      <td>355678.0</td>\n",
       "    </tr>\n",
       "  </tbody>\n",
       "</table>\n",
       "</div>"
      ],
      "text/plain": [
       "               2000         2010\n",
       "Kisumu   18663456.0          NaN\n",
       "Mombasa  23456789.0   25456789.0\n",
       "NKisumu         NaN  193456789.0\n",
       "Nairobi   3456789.0     355678.0"
      ]
     },
     "execution_count": 17,
     "metadata": {},
     "output_type": "execute_result"
    }
   ],
   "source": [
    "pop_df = pop.unstack()\n",
    "pop_df"
   ]
  },
  {
   "cell_type": "code",
   "execution_count": 20,
   "metadata": {},
   "outputs": [
    {
     "data": {
      "text/plain": [
       "Kisumu   2000     18663456.0\n",
       "Mombasa  2000     23456789.0\n",
       "         2010     25456789.0\n",
       "NKisumu  2010    193456789.0\n",
       "Nairobi  2000      3456789.0\n",
       "         2010       355678.0\n",
       "dtype: float64"
      ]
     },
     "execution_count": 20,
     "metadata": {},
     "output_type": "execute_result"
    }
   ],
   "source": [
    "pop_df.stack()"
   ]
  },
  {
   "cell_type": "code",
   "execution_count": 22,
   "metadata": {},
   "outputs": [
    {
     "data": {
      "text/html": [
       "<div>\n",
       "<style scoped>\n",
       "    .dataframe tbody tr th:only-of-type {\n",
       "        vertical-align: middle;\n",
       "    }\n",
       "\n",
       "    .dataframe tbody tr th {\n",
       "        vertical-align: top;\n",
       "    }\n",
       "\n",
       "    .dataframe thead th {\n",
       "        text-align: right;\n",
       "    }\n",
       "</style>\n",
       "<table border=\"1\" class=\"dataframe\">\n",
       "  <thead>\n",
       "    <tr style=\"text-align: right;\">\n",
       "      <th></th>\n",
       "      <th></th>\n",
       "      <th>total</th>\n",
       "      <th>under18</th>\n",
       "    </tr>\n",
       "  </thead>\n",
       "  <tbody>\n",
       "    <tr>\n",
       "      <th rowspan=\"2\" valign=\"top\">Nairobi</th>\n",
       "      <th>2000</th>\n",
       "      <td>3456789</td>\n",
       "      <td>926089</td>\n",
       "    </tr>\n",
       "    <tr>\n",
       "      <th>2010</th>\n",
       "      <td>355678</td>\n",
       "      <td>9284094</td>\n",
       "    </tr>\n",
       "    <tr>\n",
       "      <th>Kisumu</th>\n",
       "      <th>2000</th>\n",
       "      <td>18663456</td>\n",
       "      <td>454325</td>\n",
       "    </tr>\n",
       "    <tr>\n",
       "      <th>NKisumu</th>\n",
       "      <th>2010</th>\n",
       "      <td>193456789</td>\n",
       "      <td>5454443</td>\n",
       "    </tr>\n",
       "    <tr>\n",
       "      <th rowspan=\"2\" valign=\"top\">Mombasa</th>\n",
       "      <th>2000</th>\n",
       "      <td>23456789</td>\n",
       "      <td>4235434</td>\n",
       "    </tr>\n",
       "    <tr>\n",
       "      <th>2010</th>\n",
       "      <td>25456789</td>\n",
       "      <td>5453243</td>\n",
       "    </tr>\n",
       "  </tbody>\n",
       "</table>\n",
       "</div>"
      ],
      "text/plain": [
       "                  total  under18\n",
       "Nairobi 2000    3456789   926089\n",
       "        2010     355678  9284094\n",
       "Kisumu  2000   18663456   454325\n",
       "NKisumu 2010  193456789  5454443\n",
       "Mombasa 2000   23456789  4235434\n",
       "        2010   25456789  5453243"
      ]
     },
     "execution_count": 22,
     "metadata": {},
     "output_type": "execute_result"
    }
   ],
   "source": [
    "pop_df = pd.DataFrame({'total' : pop,\n",
    "                    'under18' : [926089, 9284094,\n",
    "                                 454325, 5454443,\n",
    "                                 4235434, 5453243]})\n",
    "pop_df"
   ]
  },
  {
   "cell_type": "code",
   "execution_count": 24,
   "metadata": {},
   "outputs": [
    {
     "data": {
      "text/html": [
       "<div>\n",
       "<style scoped>\n",
       "    .dataframe tbody tr th:only-of-type {\n",
       "        vertical-align: middle;\n",
       "    }\n",
       "\n",
       "    .dataframe tbody tr th {\n",
       "        vertical-align: top;\n",
       "    }\n",
       "\n",
       "    .dataframe thead th {\n",
       "        text-align: right;\n",
       "    }\n",
       "</style>\n",
       "<table border=\"1\" class=\"dataframe\">\n",
       "  <thead>\n",
       "    <tr style=\"text-align: right;\">\n",
       "      <th></th>\n",
       "      <th>2000</th>\n",
       "      <th>2010</th>\n",
       "    </tr>\n",
       "  </thead>\n",
       "  <tbody>\n",
       "    <tr>\n",
       "      <th>Kisumu</th>\n",
       "      <td>0.024343</td>\n",
       "      <td>NaN</td>\n",
       "    </tr>\n",
       "    <tr>\n",
       "      <th>Mombasa</th>\n",
       "      <td>0.180563</td>\n",
       "      <td>0.214216</td>\n",
       "    </tr>\n",
       "    <tr>\n",
       "      <th>NKisumu</th>\n",
       "      <td>NaN</td>\n",
       "      <td>0.028195</td>\n",
       "    </tr>\n",
       "    <tr>\n",
       "      <th>Nairobi</th>\n",
       "      <td>0.267904</td>\n",
       "      <td>26.102525</td>\n",
       "    </tr>\n",
       "  </tbody>\n",
       "</table>\n",
       "</div>"
      ],
      "text/plain": [
       "             2000       2010\n",
       "Kisumu   0.024343        NaN\n",
       "Mombasa  0.180563   0.214216\n",
       "NKisumu       NaN   0.028195\n",
       "Nairobi  0.267904  26.102525"
      ]
     },
     "execution_count": 24,
     "metadata": {},
     "output_type": "execute_result"
    }
   ],
   "source": [
    "f_u18 = pop_df['under18'] / pop_df['total']\n",
    "f_u18.unstack()"
   ]
  },
  {
   "cell_type": "code",
   "execution_count": null,
   "metadata": {},
   "outputs": [],
   "source": []
  }
 ],
 "metadata": {
  "kernelspec": {
   "display_name": "Python 3.6.9 64-bit ('venv': virtualenv)",
   "language": "python",
   "name": "python36964bitvenvvirtualenv911fc32ae0ad49d5a2a69474927c3459"
  },
  "language_info": {
   "codemirror_mode": {
    "name": "ipython",
    "version": 3
   },
   "file_extension": ".py",
   "mimetype": "text/x-python",
   "name": "python",
   "nbconvert_exporter": "python",
   "pygments_lexer": "ipython3",
   "version": "3.6.9"
  }
 },
 "nbformat": 4,
 "nbformat_minor": 2
}
